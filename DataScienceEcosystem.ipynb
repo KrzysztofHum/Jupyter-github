{
 "cells": [
  {
   "cell_type": "markdown",
   "id": "9267c53c-62ba-4773-943c-672d1df642c4",
   "metadata": {},
   "source": [
    "# Data Science Tools and Ecosystem"
   ]
  },
  {
   "cell_type": "markdown",
   "id": "7479c1a2-8f2a-4fb0-95f6-d5f7a6b5c04b",
   "metadata": {},
   "source": [
    "It this notebook, Data Science Tools and Ecosustem are summarized\n"
   ]
  },
  {
   "cell_type": "markdown",
   "id": "84b9aba4-e009-41b9-be71-78d8fac38c3c",
   "metadata": {},
   "source": [
    "Some of the popular languages that Data Scientists use are:\n",
    "1. Python\n",
    "2. SQL\n",
    "3. R\n",
    "4. Julia"
   ]
  },
  {
   "cell_type": "markdown",
   "id": "f79d540e-e2bd-4861-b270-10086e6b73ec",
   "metadata": {},
   "source": [
    "Some of the commonly used libraries used by Data Sccientists include:\n",
    "1. NumPy\n",
    "2. Scikit-learn\n",
    "3. Pandas\n",
    "4. TensorFlow"
   ]
  },
  {
   "cell_type": "markdown",
   "id": "f8978aa1-4813-429d-a687-46d95f9cf183",
   "metadata": {},
   "source": [
    "| Data Science Tools | \n",
    "| -------------|\n",
    "| Jupyter Notebook |\n",
    "| Tabelau |\n",
    "| Apache Spark | |l  |  |"
   ]
  },
  {
   "cell_type": "markdown",
   "id": "a665ce23-b244-404c-aee3-8ca63cab3ffb",
   "metadata": {},
   "source": [
    "### Below are a few examples of evaluating arithmetic expression in Python."
   ]
  },
  {
   "cell_type": "code",
   "execution_count": 7,
   "id": "4252dd67-a2a1-4bc3-b719-077b4e754975",
   "metadata": {},
   "outputs": [
    {
     "data": {
      "text/plain": [
       "17"
      ]
     },
     "execution_count": 7,
     "metadata": {},
     "output_type": "execute_result"
    }
   ],
   "source": [
    "(3*4)+5"
   ]
  },
  {
   "cell_type": "markdown",
   "id": "a49bb6cf-634b-4cce-811d-e1331e79494c",
   "metadata": {},
   "source": [
    "This a simple atrthmetic expression to multiply then add integers."
   ]
  },
  {
   "cell_type": "code",
   "execution_count": 2,
   "id": "79529a50-c9a4-4f5b-b9e3-b36cff8ff500",
   "metadata": {},
   "outputs": [
    {
     "data": {
      "text/plain": [
       "3.3333333333333335"
      ]
     },
     "execution_count": 2,
     "metadata": {},
     "output_type": "execute_result"
    }
   ],
   "source": [
    "200/60"
   ]
  },
  {
   "cell_type": "markdown",
   "id": "48181d87-d6ec-4d48-96da-21a8e4870f59",
   "metadata": {},
   "source": [
    "## Krzysztof"
   ]
  }
 ],
 "metadata": {
  "kernelspec": {
   "display_name": "Python 3 (ipykernel)",
   "language": "python",
   "name": "python3"
  },
  "language_info": {
   "codemirror_mode": {
    "name": "ipython",
    "version": 3
   },
   "file_extension": ".py",
   "mimetype": "text/x-python",
   "name": "python",
   "nbconvert_exporter": "python",
   "pygments_lexer": "ipython3",
   "version": "3.11.7"
  }
 },
 "nbformat": 4,
 "nbformat_minor": 5
}
